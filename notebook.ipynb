{
 "cells": [
  {
   "cell_type": "markdown",
   "id": "e2022901",
   "metadata": {},
   "source": [
    "## OCR with Llama"
   ]
  },
  {
   "cell_type": "code",
   "execution_count": null,
   "id": "fe5f388b",
   "metadata": {},
   "outputs": [],
   "source": [
    "!pip install llama-index\n",
    "!pip install llama-parse"
   ]
  },
  {
   "cell_type": "code",
   "execution_count": 3,
   "id": "b3ee6416",
   "metadata": {},
   "outputs": [
    {
     "name": "stdout",
     "output_type": "stream",
     "text": [
      "Started parsing the file under job_id 233878f1-3909-40da-a48c-998bcdc087d2\n"
     ]
    }
   ],
   "source": [
    "from llama_parse import LlamaParse\n",
    "import time\n",
    "import os\n",
    "\n",
    "parser = LlamaParse(\n",
    "    api_key=\"llx-a3MgW6v4VGoS17hfASRlu8yMB4f7MLL28XJozsUj4ZQZ7aYS\",\n",
    "    result_type=\"markdown\",\n",
    "    extract_charts=True,\n",
    "    auto_mode=True,\n",
    "    auto_mode_trigger_on_image_in_page=True,\n",
    "    auto_mode_trigger_on_table_in_page=True,\n",
    ")\n",
    "\n",
    "file_path = r\"data/OTC_CPKF_2024.pdf\"\n",
    "\n",
    "file_name = os.path.basename(file_path).split(\".pdf\")[0]\n",
    "\n",
    "extra_info = {\"file_name\": file_path}\n",
    "\n",
    "with open(file_path, \"rb\") as f:\n",
    "    documents = parser.load_data(f, extra_info=extra_info)\n",
    "\n",
    "# Kiểm tra kết quả\n",
    "if documents:\n",
    "    with open(f\"mardow_folder/{file_name}.md\", \"w\", encoding=\"utf-8\") as f:\n",
    "        for doc in documents:\n",
    "            f.write(doc.text)\n",
    "else:\n",
    "    print(\"⚠️ Chưa có dữ liệu trả về. Có thể job đang chạy, hãy thử lại sau vài giây.\")"
   ]
  },
  {
   "cell_type": "code",
   "execution_count": null,
   "id": "0728ebb2",
   "metadata": {},
   "outputs": [],
   "source": []
  }
 ],
 "metadata": {
  "kernelspec": {
   "display_name": "base",
   "language": "python",
   "name": "python3"
  },
  "language_info": {
   "codemirror_mode": {
    "name": "ipython",
    "version": 3
   },
   "file_extension": ".py",
   "mimetype": "text/x-python",
   "name": "python",
   "nbconvert_exporter": "python",
   "pygments_lexer": "ipython3",
   "version": "3.12.7"
  }
 },
 "nbformat": 4,
 "nbformat_minor": 5
}
